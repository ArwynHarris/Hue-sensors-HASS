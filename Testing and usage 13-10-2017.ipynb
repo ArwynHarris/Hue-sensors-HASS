{
 "cells": [
  {
   "cell_type": "markdown",
   "metadata": {},
   "source": [
    "This notebook tests the functionality of sensor/hue.py outside of Home-assistant, allowing the development of the unit tests"
   ]
  },
  {
   "cell_type": "code",
   "execution_count": 1,
   "metadata": {},
   "outputs": [
    {
     "data": {
      "text/plain": [
       "'/Users/robincole/Documents/Github/Hue-sensors-HASS'"
      ]
     },
     "execution_count": 1,
     "metadata": {},
     "output_type": "execute_result"
    }
   ],
   "source": [
    "pwd"
   ]
  },
  {
   "cell_type": "code",
   "execution_count": 2,
   "metadata": {},
   "outputs": [],
   "source": [
    "from unittest.mock import Mock, MagicMock, patch\n",
    "import unittest\n",
    "import json\n",
    "import pprint\n",
    "import requests\n",
    "from datetime import datetime, timedelta\n",
    "import hue_sensors as hs\n",
    "\n",
    "def print_json(json_data):\n",
    "    pprint.PrettyPrinter().pprint(json_data)\n",
    "\n",
    "# for loading URL    \n",
    "def load_url(filename):\n",
    "    try:\n",
    "        with open(filename, 'r') as fp:\n",
    "            url = json.load(fp)\n",
    "    except Exception as e:\n",
    "        print('Failed to load url')\n",
    "        url = None\n",
    "    return url['url']"
   ]
  },
  {
   "cell_type": "code",
   "execution_count": 3,
   "metadata": {},
   "outputs": [
    {
     "data": {
      "text/plain": [
       "1.1"
      ]
     },
     "execution_count": 3,
     "metadata": {},
     "output_type": "execute_result"
    }
   ],
   "source": [
    "hs.__version__"
   ]
  },
  {
   "cell_type": "code",
   "execution_count": 4,
   "metadata": {},
   "outputs": [],
   "source": [
    "filename = '/Users/robincole/Desktop/Hue_url.json'\n",
    "url = load_url(filename)    # base URL of the remote, ending /sensors"
   ]
  },
  {
   "cell_type": "code",
   "execution_count": 5,
   "metadata": {},
   "outputs": [],
   "source": [
    "# Copy classes from sensor/hue.py\n",
    "class HueSensorData(object):\n",
    "    \"\"\"Get the latest sensor data.\"\"\"\n",
    "\n",
    "    def __init__(self, url, parse_hue_api_response):\n",
    "        \"\"\"Initialize the data object.\"\"\"\n",
    "        self.url = url\n",
    "        self.data = None\n",
    "        self.parse_hue_api_response = parse_hue_api_response\n",
    "\n",
    "    # Update only once in scan interval.\n",
    "#    @Throttle(SCAN_INTERVAL)\n",
    "    def update(self):\n",
    "        \"\"\"Get the latest data.\"\"\"\n",
    "        response = requests.get(self.url)\n",
    "        if response.status_code != 200:\n",
    "            _LOGGER.warning(\"Invalid response from API\")\n",
    "        else:\n",
    "            self.data = self.parse_hue_api_response(response.json())\n",
    "\n",
    "\n",
    "class HueSensor():  #Entity\n",
    "    \"\"\"Class to hold Hue Sensor basic info.\"\"\"\n",
    "\n",
    "    ICON = 'mdi:run-fast'\n",
    "\n",
    "    def __init__(self, hue_id, data):\n",
    "        \"\"\"Initialize the sensor object.\"\"\"\n",
    "        self._hue_id = hue_id\n",
    "        self._data = data    # data is in .data\n",
    "        self._icon = None\n",
    "        self._name = self._data.data[self._hue_id]['name']\n",
    "        self._model = self._data.data[self._hue_id]['model']\n",
    "        self._state = self._data.data[self._hue_id]['state']\n",
    "        self._attributes = {}\n",
    "\n",
    "    @property\n",
    "    def name(self):\n",
    "        \"\"\"Return the name of the sensor.\"\"\"\n",
    "        return self._name\n",
    "\n",
    "    @property\n",
    "    def state(self):\n",
    "        \"\"\"Return the state of the sensor.\"\"\"\n",
    "        return self._state\n",
    "\n",
    "    @property\n",
    "    def icon(self):\n",
    "        \"\"\"Icon to use in the frontend, if any.\"\"\"\n",
    "        return self._icon\n",
    "\n",
    "    @property\n",
    "    def device_state_attributes(self):\n",
    "        \"\"\"Attributes.\"\"\"\n",
    "        return self._attributes\n",
    "\n",
    "    def update(self):\n",
    "        \"\"\"Update the sensor.\"\"\"\n",
    "        self._data.update()\n",
    "        self._state = self._data.data[self._hue_id]['state']\n",
    "        if self._model == 'SML':\n",
    "            self._icon = 'mdi:run-fast'\n",
    "            self._attributes['light_level'] = self._data.data[\n",
    "                self._hue_id]['light_level']\n",
    "            self._attributes['battery'] = self._data.data[\n",
    "                self._hue_id]['battery']\n",
    "            self._attributes['lux'] = self._data.data[\n",
    "                self._hue_id]['lux']\n",
    "            self._attributes['dark'] = self._data.data[\n",
    "                self._hue_id]['dark']\n",
    "            self._attributes['daylight'] = self._data.data[\n",
    "                self._hue_id]['daylight']\n",
    "            self._attributes['temperature'] = self._data.data[\n",
    "                self._hue_id]['temperature']\n",
    "        elif self._model in ['RWL', 'ZGP']:\n",
    "            self._icon = 'mdi:remote'\n",
    "            self._attributes['last updated'] = self._data.data[\n",
    "                self._hue_id]['last_updated']\n",
    "            self._attributes['battery'] = self._data.data[\n",
    "                self._hue_id]['battery']\n",
    "        elif self._model == 'Geofence':\n",
    "            self._icon = 'mdi:cellphone'"
   ]
  },
  {
   "cell_type": "code",
   "execution_count": 5,
   "metadata": {},
   "outputs": [],
   "source": [
    "# modified from sensors/hue.py \n",
    "def setup_platform():\n",
    "    \"\"\"Set up the Hue sensors.\"\"\"\n",
    "    #import hue_sensors as hs    \n",
    "    #url = hass.data[DOMAIN] + '/sensors'\n",
    "    data = HueSensorData(url, hs.parse_hue_api_response)\n",
    "    data.update()\n",
    "    sensors = []\n",
    "    for key in data.data.keys():\n",
    "        sensors.append(HueSensor(key, data))\n",
    "    return sensors"
   ]
  },
  {
   "cell_type": "code",
   "execution_count": 6,
   "metadata": {},
   "outputs": [
    {
     "name": "stdout",
     "output_type": "stream",
     "text": [
      "There are 7 sensors\n"
     ]
    }
   ],
   "source": [
    "sensors = setup_platform()\n",
    "print(\"There are {} sensors\".format(len(sensors)))"
   ]
  },
  {
   "cell_type": "code",
   "execution_count": 7,
   "metadata": {},
   "outputs": [
    {
     "name": "stdout",
     "output_type": "stream",
     "text": [
      "Remote bedroom\n",
      "4_click\n",
      "{'last updated': ['2017-10-12', '21:12:02'], 'battery': 100}\n"
     ]
    }
   ],
   "source": [
    "for sensor in sensors:\n",
    "    sensor.update()\n",
    "\n",
    "s = sensors[0]\n",
    "print(s.name)\n",
    "print(s.state)\n",
    "print(s.device_state_attributes)"
   ]
  },
  {
   "cell_type": "markdown",
   "metadata": {},
   "source": [
    "## Tests\n",
    "Need to capture the return of parse_hue_api_response and use this in test."
   ]
  },
  {
   "cell_type": "code",
   "execution_count": 8,
   "metadata": {},
   "outputs": [],
   "source": [
    "#response = requests.get(url)\n",
    "#data = hs.parse_hue_api_response(response.json())"
   ]
  },
  {
   "cell_type": "code",
   "execution_count": 9,
   "metadata": {},
   "outputs": [],
   "source": [
    "# Don't delete, used to capture data'\n",
    "#with open('hue_sensors.json', 'w') as fp:\n",
    " #   json.dump(data, fp)"
   ]
  },
  {
   "cell_type": "code",
   "execution_count": 12,
   "metadata": {},
   "outputs": [],
   "source": [
    "# Load the saved data\n",
    "with open('tests/hue_sensors.json', 'r') as fp:\n",
    "    mock_data = json.load(fp)"
   ]
  },
  {
   "cell_type": "code",
   "execution_count": 13,
   "metadata": {},
   "outputs": [
    {
     "data": {
      "text/plain": [
       "{'Geofence': {'model': 'GEO', 'name': 'Robins iPhone', 'state': 'on'},\n",
       " 'RWL_1e-02': {'battery': 100,\n",
       "  'last_updated': ['2017-10-10', '20:31:52'],\n",
       "  'model': 'RWL',\n",
       "  'name': 'Living room remote',\n",
       "  'state': '4_hold'},\n",
       " 'RWL_9c-02': {'battery': 100,\n",
       "  'last_updated': ['2017-10-09', '07:39:20'],\n",
       "  'model': 'RWL',\n",
       "  'name': 'Hall remote',\n",
       "  'state': '1_hold'},\n",
       " 'RWL_dc-02': {'battery': 100,\n",
       "  'last_updated': ['2017-10-10', '21:14:32'],\n",
       "  'model': 'RWL',\n",
       "  'name': 'Remote bedroom',\n",
       "  'state': '4_click'},\n",
       " 'SML_28-02': {'battery': 100,\n",
       "  'dark': True,\n",
       "  'daylight': False,\n",
       "  'light_level': 0,\n",
       "  'lux': 1,\n",
       "  'model': 'SML',\n",
       "  'name': 'Hall motion Sensor',\n",
       "  'state': 'off',\n",
       "  'temperature': 18.15},\n",
       " 'SML_9c-02': {'battery': 100,\n",
       "  'dark': True,\n",
       "  'daylight': False,\n",
       "  'light_level': 0,\n",
       "  'lux': 1,\n",
       "  'model': 'SML',\n",
       "  'name': 'Living room motion sensor',\n",
       "  'state': 'off',\n",
       "  'temperature': 21.95},\n",
       " 'SML_ce-02': {'battery': 100,\n",
       "  'dark': True,\n",
       "  'daylight': False,\n",
       "  'light_level': 0,\n",
       "  'lux': 1,\n",
       "  'model': 'SML',\n",
       "  'name': 'Bedroom motion sensor',\n",
       "  'state': 'off',\n",
       "  'temperature': 20.02}}"
      ]
     },
     "execution_count": 13,
     "metadata": {},
     "output_type": "execute_result"
    }
   ],
   "source": [
    "mock_data"
   ]
  },
  {
   "cell_type": "markdown",
   "metadata": {},
   "source": [
    "Just noticed that sensors do not have a last_updated\n",
    "Now mock parse_hue_api_response() to that it returns mock_data"
   ]
  },
  {
   "cell_type": "code",
   "execution_count": 14,
   "metadata": {},
   "outputs": [],
   "source": [
    "class TestLondonTubeSensor(unittest.TestCase):\n",
    "    \n",
    "    def test_setup_platform(self):\n",
    "        \"\"\"Set up the Hue sensors.\"\"\"\n",
    "        import hue_sensors as hs    \n",
    "        #url = hass.data[DOMAIN] + '/sensors'\n",
    "        hs.parse_hue_api_response = MagicMock(return_value=mock_data)    # Mock the return\n",
    "        data = HueSensorData(url, hs.parse_hue_api_response)\n",
    "        data.update()\n",
    "        sensors = []\n",
    "        for key in data.data.keys():\n",
    "            sensors.append(HueSensor(key, data))\n",
    "        for sensor in sensors:\n",
    "            sensor.update()\n",
    "\n",
    "        hall_motion_sensor = sensors[0]\n",
    "        assert hall_motion_sensor.name == 'Remote bedroom'\n",
    "        \n",
    "        hall_motion_sensor = sensors[1]\n",
    "        assert hall_motion_sensor.name == 'Hall motion Sensor'"
   ]
  },
  {
   "cell_type": "code",
   "execution_count": 15,
   "metadata": {},
   "outputs": [
    {
     "name": "stderr",
     "output_type": "stream",
     "text": [
      "test_setup_platform (__main__.TestLondonTubeSensor)\n",
      "Set up the Hue sensors. ... ok\n",
      "\n",
      "----------------------------------------------------------------------\n",
      "Ran 1 test in 0.409s\n",
      "\n",
      "OK\n"
     ]
    },
    {
     "data": {
      "text/plain": [
       "<unittest.main.TestProgram at 0x10a48a6d8>"
      ]
     },
     "execution_count": 15,
     "metadata": {},
     "output_type": "execute_result"
    }
   ],
   "source": [
    "# Run the unit test (and don't shut down the Jupyter Notebook)\n",
    "unittest.main(argv=['ignored', '-v'], exit=False)"
   ]
  },
  {
   "cell_type": "code",
   "execution_count": null,
   "metadata": {},
   "outputs": [],
   "source": []
  }
 ],
 "metadata": {
  "kernelspec": {
   "display_name": "Python 3",
   "language": "python",
   "name": "python3"
  },
  "language_info": {
   "codemirror_mode": {
    "name": "ipython",
    "version": 3
   },
   "file_extension": ".py",
   "mimetype": "text/x-python",
   "name": "python",
   "nbconvert_exporter": "python",
   "pygments_lexer": "ipython3",
   "version": "3.6.3"
  }
 },
 "nbformat": 4,
 "nbformat_minor": 2
}
