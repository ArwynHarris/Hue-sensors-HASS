{
 "cells": [
  {
   "cell_type": "markdown",
   "metadata": {},
   "source": [
    "This notebook contains the developent of a custom component for home-assistant for monitoring Hue motion sensors and 4 button remotes. The component is a RESTful sensor. It is split into 2 main sections: functions to parse the json data returned by the API call, and classes to represent the sensor data in HASS."
   ]
  },
  {
   "cell_type": "code",
   "execution_count": 1,
   "metadata": {
    "collapsed": true
   },
   "outputs": [],
   "source": [
    "import requests\n",
    "import json\n",
    "import pprint\n",
    "from datetime import datetime, timedelta\n",
    "\n",
    "def print_json(json_data):\n",
    "    pprint.PrettyPrinter().pprint(json_data)\n",
    "\n",
    "# for loading URL    \n",
    "def load_url(filename):\n",
    "    try:\n",
    "        with open(filename, 'r') as fp:\n",
    "            url = json.load(fp)\n",
    "    except Exception as e:\n",
    "        print('Failed to load url')\n",
    "        url = None\n",
    "    return url['url']"
   ]
  },
  {
   "cell_type": "code",
   "execution_count": 2,
   "metadata": {
    "collapsed": true
   },
   "outputs": [],
   "source": [
    "filename = '/Users/robincole/Desktop/Hue_url.json'\n",
    "URL = load_url(filename)    # base URL of the remote, ending /sensors\n",
    "sensors = requests.get(URL).json()"
   ]
  },
  {
   "cell_type": "code",
   "execution_count": 3,
   "metadata": {},
   "outputs": [
    {
     "data": {
      "text/plain": [
       "dict_keys(['20', '3', '7', '15', '9', '10', '14', '4', '16', '11', '21', '6', '5', '1', '12', '18', '8', '2', '13'])"
      ]
     },
     "execution_count": 3,
     "metadata": {},
     "output_type": "execute_result"
    }
   ],
   "source": [
    "sensors.keys()"
   ]
  },
  {
   "cell_type": "markdown",
   "metadata": {},
   "source": [
    "Print out all my sensors"
   ]
  },
  {
   "cell_type": "code",
   "execution_count": 4,
   "metadata": {},
   "outputs": [
    {
     "name": "stdout",
     "output_type": "stream",
     "text": [
      "2 : Switch : RWL021 : Remote bedroom : 00:17:88:01:10:3e:3a:dc-02-fc00\n",
      "3 : PGenericStatus : PHWA01 : Dimmer Switch 2 SceneCycle : WA0001\n",
      "4 : Temperature : SML001 : Hue temperature sensor 1 : 00:17:88:01:02:00:af:28-02-0402\n",
      "5 : Presence : SML001 : Hall Sensor : 00:17:88:01:02:00:af:28-02-0406\n",
      "6 : LightLevel : SML001 : Hue ambient light sensor 1 : 00:17:88:01:02:00:af:28-02-0400\n",
      "7 : PGenericStatus : PHA_STATE : MotionSensor 5.Companion : MotionSensor 5.Companion\n",
      "8 : Temperature : SML001 : Hue temperature sensor 2 : 00:17:88:01:02:00:b5:ce-02-0402\n",
      "9 : Presence : SML001 : Bedroom sensor : 00:17:88:01:02:00:b5:ce-02-0406\n",
      "10 : LightLevel : SML001 : Hue ambient light sensor 2 : 00:17:88:01:02:00:b5:ce-02-0400\n",
      "11 : PGenericStatus : PHA_STATE : MotionSensor 9.Companion : MotionSensor 9.Companion\n",
      "12 : fence : HA_GEOFENCE : Robins iPhone : L_02_IYwHM\n",
      "13 : PPresence : HOMEAWAY : HomeAway : L_01_9rQ8A\n",
      "14 : Temperature : SML001 : Hue temperature sensor 3 : 00:17:88:01:02:01:aa:9c-02-0402\n",
      "15 : Presence : SML001 : Living room sensor : 00:17:88:01:02:01:aa:9c-02-0406\n",
      "16 : LightLevel : SML001 : Hue ambient light sensor 3 : 00:17:88:01:02:01:aa:9c-02-0400\n",
      "18 : PGenericStatus : PHA_STATE : MotionSensor 15.Companion : MotionSensor 15.Companion\n",
      "20 : Switch : RWL021 : Living room remote : 00:17:88:01:02:e2:47:1e-02-fc00\n",
      "21 : PGenericStatus : PHWA01 : Dimmer Switch 20 SceneCycle : WA0001\n"
     ]
    }
   ],
   "source": [
    "id_list = []\n",
    "for i in range(1,25):\n",
    "    try:\n",
    "        type = sensors[str(i)]['type'][3:]   # First 3 characters always ZZL\n",
    "        name = sensors[str(i)]['name']\n",
    "        id = sensors[str(i)]['uniqueid']\n",
    "        modelid = sensors[str(i)]['modelid']\n",
    "        print(str(i) + ' : ' + type + ' : ' + modelid + ' : ' + name + ' : ' + id)\n",
    "    except:\n",
    "        pass"
   ]
  },
  {
   "cell_type": "markdown",
   "metadata": {},
   "source": [
    "Individual devices indicated by first 5 characters in last entry in id_unique. \n",
    "I have 3 motion sensors and 2 remotes.\n",
    "\n",
    "Will ignore scenes, with modelid PHWA01.\n",
    "\n",
    "Look at the data for a remote."
   ]
  },
  {
   "cell_type": "code",
   "execution_count": 5,
   "metadata": {},
   "outputs": [],
   "source": [
    "remote_index = 12\n",
    "remote_url = URL + '/{}'.format(remote_index)\n",
    "remote = requests.get(remote_url).json()"
   ]
  },
  {
   "cell_type": "code",
   "execution_count": 6,
   "metadata": {},
   "outputs": [
    {
     "name": "stdout",
     "output_type": "stream",
     "text": [
      "{'config': {'on': True, 'reachable': True},\n",
      " 'manufacturername': 'Philips',\n",
      " 'modelid': 'HA_GEOFENCE',\n",
      " 'name': 'Robins iPhone',\n",
      " 'recycle': False,\n",
      " 'state': {'lastupdated': '2017-09-14T18:44:05', 'presence': False},\n",
      " 'swversion': 'A_1',\n",
      " 'type': 'Geofence',\n",
      " 'uniqueid': 'L_02_IYwHM'}\n"
     ]
    }
   ],
   "source": [
    "print_json(remote)"
   ]
  },
  {
   "cell_type": "code",
   "execution_count": 7,
   "metadata": {},
   "outputs": [
    {
     "data": {
      "text/plain": [
       "{'lastupdated': '2017-09-14T18:44:05', 'presence': False}"
      ]
     },
     "execution_count": 7,
     "metadata": {},
     "output_type": "execute_result"
    }
   ],
   "source": [
    "remote['state']#['buttonevent']"
   ]
  },
  {
   "cell_type": "markdown",
   "metadata": {},
   "source": [
    "Format the time correctly"
   ]
  },
  {
   "cell_type": "code",
   "execution_count": 8,
   "metadata": {},
   "outputs": [
    {
     "data": {
      "text/plain": [
       "'2017-09-14T18:44:05'"
      ]
     },
     "execution_count": 8,
     "metadata": {},
     "output_type": "execute_result"
    }
   ],
   "source": [
    "lastupdated = remote['state']['lastupdated']\n",
    "lastupdated"
   ]
  },
  {
   "cell_type": "code",
   "execution_count": 9,
   "metadata": {},
   "outputs": [
    {
     "data": {
      "text/plain": [
       "['2017-09-14', '18:44:05']"
      ]
     },
     "execution_count": 9,
     "metadata": {},
     "output_type": "execute_result"
    }
   ],
   "source": [
    "lastupdated.split('T')"
   ]
  },
  {
   "cell_type": "markdown",
   "metadata": {},
   "source": [
    "Format the name correctly"
   ]
  },
  {
   "cell_type": "code",
   "execution_count": 10,
   "metadata": {},
   "outputs": [
    {
     "name": "stdout",
     "output_type": "stream",
     "text": [
      "Hall  Motion  Sensor\n"
     ]
    }
   ],
   "source": [
    "line='Hall Sensor'\n",
    "arr = line.split()\n",
    "arr.insert(1, ' Motion ')\n",
    "print(' '.join(arr))"
   ]
  },
  {
   "cell_type": "markdown",
   "metadata": {},
   "source": [
    "## Parse the 3 kinds of sensor\n",
    "Functions to parse 3 kinds of sensor, and a function to parse the API json data returned which calls the 3 functions.\n",
    "#### Parsing the SML001 Hue motion sensor"
   ]
  },
  {
   "cell_type": "code",
   "execution_count": 11,
   "metadata": {
    "collapsed": true
   },
   "outputs": [],
   "source": [
    "def parse_SML001(response): \n",
    "    '''Parse the json response for a SML001 Hue motion sensor and return the data'''\n",
    "    if 'ambient light' in response['name']:\n",
    "        data = {'light level': response['state']['lightlevel']}\n",
    "        \n",
    "    elif 'temperature' in response['name']:\n",
    "        data = {'temperature':response['state']['temperature']}\n",
    "        \n",
    "    else:\n",
    "        # Some logic to conver 'Hall Sensor' to 'Hall Motion Sensor'\n",
    "        name_raw = response['name']        \n",
    "        arr = name_raw.split()\n",
    "        arr.insert(-1, 'motion')\n",
    "        name = ' '.join(arr)\n",
    "        \n",
    "        data = {'model':response['modelid'],\n",
    "                'state':response['state']['presence'],\n",
    "                'name':name} \n",
    "    return data"
   ]
  },
  {
   "cell_type": "code",
   "execution_count": 12,
   "metadata": {},
   "outputs": [
    {
     "data": {
      "text/plain": [
       "{'model': 'SML001', 'name': 'Hall motion Sensor', 'state': False}"
      ]
     },
     "execution_count": 12,
     "metadata": {},
     "output_type": "execute_result"
    }
   ],
   "source": [
    "motion_sensor = requests.get(URL + '/{}'.format(5)).json()\n",
    "parse_SML001(motion_sensor)"
   ]
  },
  {
   "cell_type": "code",
   "execution_count": 13,
   "metadata": {},
   "outputs": [
    {
     "data": {
      "text/plain": [
       "{'temperature': 1744}"
      ]
     },
     "execution_count": 13,
     "metadata": {},
     "output_type": "execute_result"
    }
   ],
   "source": [
    "motion_sensor = requests.get(URL + '/{}'.format(4)).json()\n",
    "parse_SML001(motion_sensor)"
   ]
  },
  {
   "cell_type": "code",
   "execution_count": 14,
   "metadata": {},
   "outputs": [
    {
     "data": {
      "text/plain": [
       "{'light level': 5475}"
      ]
     },
     "execution_count": 14,
     "metadata": {},
     "output_type": "execute_result"
    }
   ],
   "source": [
    "motion_sensor = requests.get(URL + '/{}'.format(6)).json()\n",
    "parse_SML001(motion_sensor)"
   ]
  },
  {
   "cell_type": "markdown",
   "metadata": {},
   "source": [
    "#### Parsing the RWL021 Hue remote"
   ]
  },
  {
   "cell_type": "code",
   "execution_count": 15,
   "metadata": {},
   "outputs": [],
   "source": [
    "def parse_RWL021(response):\n",
    "    '''Parse the json response for a RWL021 Hue remote and return the data.\n",
    "       If button held for 2 seconds then a hold.'''\n",
    "    # check if long or short hold\n",
    "    press = str(response['state']['buttonevent'])\n",
    "\n",
    "    if press[-1] in ['0', '2']:    # 1002, 4001 etc, check if even\n",
    "        button = str(press)[0] + '_click'\n",
    "    else:\n",
    "        button = str(press)[0] + '_hold'\n",
    "    \n",
    "    data = {'model':'RWL021',\n",
    "            'name':response['name'],\n",
    "            'state':button,\n",
    "            'last_updated':response['state']['lastupdated'].split('T')}\n",
    "    return data"
   ]
  },
  {
   "cell_type": "markdown",
   "metadata": {},
   "source": [
    "Removed this code for now, it checks if it has been greater than 5 seconds since last press of remote and if so sets the status to idle. However there is currently an issue that the Hue time is out by 1 hour so this doesn't work. Check why Hue time is out and add later if required.\n",
    "\n",
    "    # Check how long since button pressed. If > seconds consider remote idle\n",
    "    lastupdated = response['state']['lastupdated'].split('T')  # returns a list\n",
    "    lastupdated_str = lastupdated[0] + ' ' + lastupdated[1]   # return a string\n",
    "    lastupdated_obj = datetime.strptime(lastupdated_str, '%Y-%m-%d %H:%M:%S')  # convert to datetime object\n",
    "    diff = datetime.now() - lastupdated_obj\n",
    "    sec_since_update = diff.seconds\n",
    "\n",
    "    # Why is API request returning wrong time zone? \n",
    "    #if diff.seconds > 5:\n",
    "    #    button = 'idle'"
   ]
  },
  {
   "cell_type": "code",
   "execution_count": 16,
   "metadata": {},
   "outputs": [
    {
     "data": {
      "text/plain": [
       "{'last_updated': ['2017-09-14', '05:14:34'],\n",
       " 'model': 'RWL021',\n",
       " 'name': 'Living room remote',\n",
       " 'state': '4_hold'}"
      ]
     },
     "execution_count": 16,
     "metadata": {},
     "output_type": "execute_result"
    }
   ],
   "source": [
    "remote = requests.get(URL + '/{}'.format(20)).json()\n",
    "parse_RWL021(remote)"
   ]
  },
  {
   "cell_type": "markdown",
   "metadata": {},
   "source": [
    "#### Parse the GeoFence\n",
    "Hue presnce status"
   ]
  },
  {
   "cell_type": "code",
   "execution_count": 17,
   "metadata": {
    "collapsed": true
   },
   "outputs": [],
   "source": [
    "def parse_GEOFENCE(response): \n",
    "    '''Parse the json response for a GEOFENCE and return the data'''\n",
    "    data = {'name': response['name'],\n",
    "            'model':'Geofence',\n",
    "            'state': response['state']['presence']}\n",
    "    return data"
   ]
  },
  {
   "cell_type": "code",
   "execution_count": 18,
   "metadata": {},
   "outputs": [
    {
     "data": {
      "text/plain": [
       "{'model': 'Geofence', 'name': 'Robins iPhone', 'state': False}"
      ]
     },
     "execution_count": 18,
     "metadata": {},
     "output_type": "execute_result"
    }
   ],
   "source": [
    "parse_GEOFENCE(requests.get(URL + '/{}'.format(12)).json())"
   ]
  },
  {
   "cell_type": "markdown",
   "metadata": {},
   "source": [
    "## Parsing the json file\n",
    "Function to parse the entire json returned by the API call. Loop over all sensors and if any of the 3 sensors of interest is found, return their data"
   ]
  },
  {
   "cell_type": "code",
   "execution_count": 19,
   "metadata": {
    "collapsed": true
   },
   "outputs": [],
   "source": [
    "def parse_hue_api_response(response):\n",
    "    \"\"\"Take in the Hue API json response.\"\"\"\n",
    "    data_dict = {}    # the list of sensors, referenced by their parsed_uniqueid\n",
    "    \n",
    "    # Loop over all keys (1,2 etc) in API response to identify sensors and get data\n",
    "    for key in response.keys():\n",
    "        sensor = response[key]\n",
    "        \n",
    "        if sensor['modelid'] in ['RWL021', 'SML001']:\n",
    "            _key = sensor['uniqueid'].split(':')[-1][0:5]\n",
    "            \n",
    "            if sensor['modelid'] == 'RWL021':\n",
    "                data_dict[_key] = parse_RWL021(sensor)\n",
    "            else:\n",
    "                if _key not in data_dict.keys():\n",
    "                    data_dict[_key] = parse_SML001(sensor)\n",
    "                else:\n",
    "                    data_dict[_key].update(parse_SML001(sensor))   # append the data\n",
    "                    \n",
    "        elif sensor['modelid'] == 'HA_GEOFENCE':\n",
    "            data_dict['Geofence'] = parse_GEOFENCE(sensor)\n",
    "            \n",
    "    return data_dict"
   ]
  },
  {
   "cell_type": "code",
   "execution_count": 20,
   "metadata": {},
   "outputs": [
    {
     "data": {
      "text/plain": [
       "{'1e-02': {'last_updated': ['2017-09-14', '05:14:34'],\n",
       "  'model': 'RWL021',\n",
       "  'name': 'Living room remote',\n",
       "  'state': '4_hold'},\n",
       " '28-02': {'light level': 5475,\n",
       "  'model': 'SML001',\n",
       "  'name': 'Hall motion Sensor',\n",
       "  'state': False,\n",
       "  'temperature': 1744},\n",
       " '9c-02': {'light level': 16221,\n",
       "  'model': 'SML001',\n",
       "  'name': 'Living room motion sensor',\n",
       "  'state': False,\n",
       "  'temperature': 2068},\n",
       " 'Geofence': {'model': 'Geofence', 'name': 'Robins iPhone', 'state': False},\n",
       " 'ce-02': {'light level': 20789,\n",
       "  'model': 'SML001',\n",
       "  'name': 'Bedroom motion sensor',\n",
       "  'state': False,\n",
       "  'temperature': 1889},\n",
       " 'dc-02': {'last_updated': ['2017-09-14', '20:55:06'],\n",
       "  'model': 'RWL021',\n",
       "  'name': 'Remote bedroom',\n",
       "  'state': '4_click'}}"
      ]
     },
     "execution_count": 20,
     "metadata": {},
     "output_type": "execute_result"
    }
   ],
   "source": [
    "my_parsed_data = parse_hue_api_response(requests.get(URL).json())\n",
    "my_parsed_data"
   ]
  },
  {
   "cell_type": "markdown",
   "metadata": {},
   "source": [
    "# HA specific development\n",
    "## Data class\n",
    "A class to hold the parsed data. In HA this is onject is throttled so it is only called once a second. Therfore only a single sensor object will update the data object but since the data object is shared by all sensors it will be up to date for all sensors. "
   ]
  },
  {
   "cell_type": "code",
   "execution_count": 21,
   "metadata": {
    "collapsed": true
   },
   "outputs": [],
   "source": [
    "class HueSensorData(object):\n",
    "    \"\"\"Get the latest sensor data.\"\"\"\n",
    "\n",
    "    def __init__(self):\n",
    "        \"\"\"Initialize the object.\"\"\"\n",
    "        self.data = None\n",
    "\n",
    "    # Update only once in scan interval.\n",
    "    #@Throttle(SCAN_INTERVAL)\n",
    "    def update(self):\n",
    "        \"\"\"Get the latest data\"\"\"\n",
    "        response = requests.get(URL)\n",
    "        if response.status_code != 200:\n",
    "            _LOGGER.warning(\"Invalid response from API\")\n",
    "        else:\n",
    "            self.data = parse_hue_api_response(response.json())"
   ]
  },
  {
   "cell_type": "code",
   "execution_count": 22,
   "metadata": {},
   "outputs": [],
   "source": [
    "my_data = HueSensorData()\n",
    "my_data.update()"
   ]
  },
  {
   "cell_type": "code",
   "execution_count": 23,
   "metadata": {},
   "outputs": [
    {
     "data": {
      "text/plain": [
       "dict_keys(['Geofence', '28-02', '9c-02', 'ce-02', '1e-02', 'dc-02'])"
      ]
     },
     "execution_count": 23,
     "metadata": {},
     "output_type": "execute_result"
    }
   ],
   "source": [
    "my_data.data.keys()   # sensors are indexed by their Hue ID"
   ]
  },
  {
   "cell_type": "markdown",
   "metadata": {},
   "source": [
    "## Sensor class\n",
    "\n",
    "Create a generic HueSensor class."
   ]
  },
  {
   "cell_type": "code",
   "execution_count": 24,
   "metadata": {},
   "outputs": [],
   "source": [
    "class HueSensor():\n",
    "    \"\"\"Class to hold Hue Sensor basic info.\"\"\"\n",
    "\n",
    "    ICON = 'mdi:run-fast'\n",
    "        \n",
    "    def __init__(self, hue_id, data):\n",
    "        self._hue_id = hue_id\n",
    "        self._data = data    # remember this is the data object, data is in .data\n",
    "        self._name = self._data.data[self._hue_id]['name']      \n",
    "        self._model = self._data.data[self._hue_id]['model']\n",
    "        self._state = self._data.data[self._hue_id]['state']\n",
    "        self._attributes = {}\n",
    "        \n",
    "    @property\n",
    "    def name(self):\n",
    "        \"\"\"Return the name of the sensor.\"\"\"\n",
    "        return self._name\n",
    "\n",
    "    @property\n",
    "    def state(self):\n",
    "        \"\"\"Return the state of the sensor.\"\"\"\n",
    "        return self._state\n",
    "    \n",
    "    @property\n",
    "    def icon(self):\n",
    "        \"\"\"Icon to use in the frontend, if any.\"\"\"\n",
    "        return self.ICON\n",
    "    \n",
    "    @property\n",
    "    def device_state_attributes(self):\n",
    "        \"\"\"Only motion sensors have attributes currently, but could extend.\"\"\"\n",
    "        return self._attributes\n",
    "\n",
    "    def update(self):\n",
    "        \"\"\"Update the sensor.\"\"\"\n",
    "        self._data.update()\n",
    "        self._state = self._data.data[self._hue_id]['state']\n",
    "        if self._model == 'SML001':\n",
    "            self._attributes['light level'] = self._data.data[self._hue_id]['light level']\n",
    "            self._attributes['temperature'] = self._data.data[self._hue_id]['temperature']\n",
    "        elif self._model == 'RWL021':\n",
    "            self._attributes['last updated'] = self._data.data[self._hue_id]['last_updated']"
   ]
  },
  {
   "cell_type": "markdown",
   "metadata": {},
   "source": [
    "### Test the motion sensor"
   ]
  },
  {
   "cell_type": "code",
   "execution_count": 25,
   "metadata": {},
   "outputs": [
    {
     "data": {
      "text/plain": [
       "{'light level': 20789,\n",
       " 'model': 'SML001',\n",
       " 'name': 'Bedroom motion sensor',\n",
       " 'state': False,\n",
       " 'temperature': 1889}"
      ]
     },
     "execution_count": 25,
     "metadata": {},
     "output_type": "execute_result"
    }
   ],
   "source": [
    "my_data.data['ce-02']"
   ]
  },
  {
   "cell_type": "code",
   "execution_count": 26,
   "metadata": {},
   "outputs": [
    {
     "data": {
      "text/plain": [
       "'ce-02'"
      ]
     },
     "execution_count": 26,
     "metadata": {},
     "output_type": "execute_result"
    }
   ],
   "source": [
    "test_hue_motion = HueSensor('ce-02', my_data)\n",
    "test_hue_motion.update()\n",
    "test_hue_motion._hue_id"
   ]
  },
  {
   "cell_type": "code",
   "execution_count": 27,
   "metadata": {},
   "outputs": [
    {
     "data": {
      "text/plain": [
       "'Bedroom motion sensor'"
      ]
     },
     "execution_count": 27,
     "metadata": {},
     "output_type": "execute_result"
    }
   ],
   "source": [
    "test_hue_motion.name"
   ]
  },
  {
   "cell_type": "code",
   "execution_count": 28,
   "metadata": {},
   "outputs": [
    {
     "data": {
      "text/plain": [
       "False"
      ]
     },
     "execution_count": 28,
     "metadata": {},
     "output_type": "execute_result"
    }
   ],
   "source": [
    "test_hue_motion.state"
   ]
  },
  {
   "cell_type": "code",
   "execution_count": 29,
   "metadata": {},
   "outputs": [
    {
     "data": {
      "text/plain": [
       "{'light level': 20789, 'temperature': 1889}"
      ]
     },
     "execution_count": 29,
     "metadata": {},
     "output_type": "execute_result"
    }
   ],
   "source": [
    "test_hue_motion.device_state_attributes"
   ]
  },
  {
   "cell_type": "markdown",
   "metadata": {},
   "source": [
    "### Test the remote"
   ]
  },
  {
   "cell_type": "code",
   "execution_count": 30,
   "metadata": {},
   "outputs": [
    {
     "data": {
      "text/plain": [
       "{'last_updated': ['2017-09-14', '05:14:34'],\n",
       " 'model': 'RWL021',\n",
       " 'name': 'Living room remote',\n",
       " 'state': '4_hold'}"
      ]
     },
     "execution_count": 30,
     "metadata": {},
     "output_type": "execute_result"
    }
   ],
   "source": [
    "my_data.data['1e-02']"
   ]
  },
  {
   "cell_type": "code",
   "execution_count": 31,
   "metadata": {},
   "outputs": [
    {
     "data": {
      "text/plain": [
       "'1e-02'"
      ]
     },
     "execution_count": 31,
     "metadata": {},
     "output_type": "execute_result"
    }
   ],
   "source": [
    "test_hue_remote = HueSensor('1e-02', my_data)\n",
    "test_hue_remote.update()\n",
    "test_hue_remote._hue_id"
   ]
  },
  {
   "cell_type": "code",
   "execution_count": 32,
   "metadata": {},
   "outputs": [
    {
     "data": {
      "text/plain": [
       "'Living room remote'"
      ]
     },
     "execution_count": 32,
     "metadata": {},
     "output_type": "execute_result"
    }
   ],
   "source": [
    "test_hue_remote.name"
   ]
  },
  {
   "cell_type": "code",
   "execution_count": 33,
   "metadata": {},
   "outputs": [
    {
     "data": {
      "text/plain": [
       "'4_hold'"
      ]
     },
     "execution_count": 33,
     "metadata": {},
     "output_type": "execute_result"
    }
   ],
   "source": [
    "test_hue_remote.state"
   ]
  },
  {
   "cell_type": "code",
   "execution_count": 34,
   "metadata": {},
   "outputs": [
    {
     "data": {
      "text/plain": [
       "{'last updated': ['2017-09-14', '05:14:34']}"
      ]
     },
     "execution_count": 34,
     "metadata": {},
     "output_type": "execute_result"
    }
   ],
   "source": [
    "test_hue_remote.device_state_attributes"
   ]
  },
  {
   "cell_type": "markdown",
   "metadata": {},
   "source": [
    "### Test the Geofence"
   ]
  },
  {
   "cell_type": "code",
   "execution_count": 35,
   "metadata": {},
   "outputs": [
    {
     "data": {
      "text/plain": [
       "{'model': 'Geofence', 'name': 'Robins iPhone', 'state': False}"
      ]
     },
     "execution_count": 35,
     "metadata": {},
     "output_type": "execute_result"
    }
   ],
   "source": [
    "my_data.data['Geofence']"
   ]
  },
  {
   "cell_type": "code",
   "execution_count": 36,
   "metadata": {},
   "outputs": [
    {
     "data": {
      "text/plain": [
       "'Geofence'"
      ]
     },
     "execution_count": 36,
     "metadata": {},
     "output_type": "execute_result"
    }
   ],
   "source": [
    "test_geofence = HueSensor('Geofence', my_data)\n",
    "test_geofence.update()\n",
    "test_geofence._hue_id"
   ]
  },
  {
   "cell_type": "code",
   "execution_count": 37,
   "metadata": {},
   "outputs": [
    {
     "data": {
      "text/plain": [
       "'Robins iPhone'"
      ]
     },
     "execution_count": 37,
     "metadata": {},
     "output_type": "execute_result"
    }
   ],
   "source": [
    "test_geofence.name"
   ]
  },
  {
   "cell_type": "code",
   "execution_count": 38,
   "metadata": {},
   "outputs": [
    {
     "data": {
      "text/plain": [
       "False"
      ]
     },
     "execution_count": 38,
     "metadata": {},
     "output_type": "execute_result"
    }
   ],
   "source": [
    "test_geofence.state"
   ]
  },
  {
   "cell_type": "markdown",
   "metadata": {},
   "source": [
    "## Test setup platform\n",
    "Mimic setup in HA"
   ]
  },
  {
   "cell_type": "code",
   "execution_count": 39,
   "metadata": {
    "collapsed": true
   },
   "outputs": [],
   "source": [
    "def setup_platform():\n",
    "    \"\"\"Set up the component.\"\"\"\n",
    "    data = HueSensorData()\n",
    "    data.update()\n",
    "    sensors = []\n",
    "    for key in data.data.keys():\n",
    "        sensors.append(HueSensor(key, data))\n",
    "    return(sensors)\n",
    "    #add_devices(sensors, True)"
   ]
  },
  {
   "cell_type": "code",
   "execution_count": 40,
   "metadata": {},
   "outputs": [],
   "source": [
    "my_sensors = setup_platform()"
   ]
  },
  {
   "cell_type": "code",
   "execution_count": 41,
   "metadata": {},
   "outputs": [
    {
     "name": "stdout",
     "output_type": "stream",
     "text": [
      "Robins iPhone\n",
      "False\n",
      "{}\n",
      "*****\n",
      "Hall motion Sensor\n",
      "False\n",
      "{'temperature': 1744, 'light level': 5475}\n",
      "*****\n",
      "Living room motion sensor\n",
      "False\n",
      "{'temperature': 2068, 'light level': 16221}\n",
      "*****\n",
      "Bedroom motion sensor\n",
      "False\n",
      "{'temperature': 1889, 'light level': 20789}\n",
      "*****\n",
      "Living room remote\n",
      "4_hold\n",
      "{'last updated': ['2017-09-14', '05:14:34']}\n",
      "*****\n",
      "Remote bedroom\n",
      "4_click\n",
      "{'last updated': ['2017-09-14', '20:55:06']}\n",
      "*****\n"
     ]
    }
   ],
   "source": [
    "for sensor in my_sensors:\n",
    "    sensor.update()\n",
    "    print(sensor.name)\n",
    "    print(sensor.state)\n",
    "    print(sensor.device_state_attributes)\n",
    "    print('*****')"
   ]
  },
  {
   "cell_type": "code",
   "execution_count": null,
   "metadata": {
    "collapsed": true
   },
   "outputs": [],
   "source": []
  }
 ],
 "metadata": {
  "anaconda-cloud": {},
  "kernelspec": {
   "display_name": "Python [conda root]",
   "language": "python",
   "name": "conda-root-py"
  },
  "language_info": {
   "codemirror_mode": {
    "name": "ipython",
    "version": 3
   },
   "file_extension": ".py",
   "mimetype": "text/x-python",
   "name": "python",
   "nbconvert_exporter": "python",
   "pygments_lexer": "ipython3",
   "version": "3.5.3"
  }
 },
 "nbformat": 4,
 "nbformat_minor": 1
}
