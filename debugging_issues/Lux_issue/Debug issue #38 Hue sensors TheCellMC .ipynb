{
 "cells": [
  {
   "cell_type": "markdown",
   "metadata": {},
   "source": [
    "Issue: https://github.com/robmarkcole/Hue-sensors-HASS/issues/38 \n",
    "\n",
    "```\n",
    "2018-01-21 09:39:45 ERROR (MainThread) [homeassistant.components.sensor] Error on device update!\n",
    "Traceback (most recent call last):\n",
    "  File \"/usr/lib/python3.6/site-packages/homeassistant/helpers/entity_component.py\", line 217, in async_add_entity\n",
    "    yield from entity.async_device_update(warning=False)\n",
    "  File \"/usr/lib/python3.6/site-packages/homeassistant/helpers/entity.py\", line 306, in async_device_update\n",
    "    yield from self.hass.async_add_job(self.update)\n",
    "  File \"/usr/lib/python3.6/asyncio/futures.py\", line 332, in __iter__\n",
    "    yield self  # This tells Task to wait for completion.\n",
    "  File \"/usr/lib/python3.6/asyncio/tasks.py\", line 250, in _wakeup\n",
    "    future.result()\n",
    "  File \"/usr/lib/python3.6/asyncio/futures.py\", line 245, in result\n",
    "    raise self._exception\n",
    "  File \"/usr/lib/python3.6/concurrent/futures/thread.py\", line 56, in run\n",
    "    result = self.fn(*self.args, **self.kwargs)\n",
    "  File \"/config/custom_components/sensor/hue.py\", line 214, in update\n",
    "    self._hue_id]['lux']\n",
    "KeyError: 'lux'\n",
    "```"
   ]
  },
  {
   "cell_type": "markdown",
   "metadata": {},
   "source": [
    "**pip install hue_sensors**"
   ]
  },
  {
   "cell_type": "code",
   "execution_count": 1,
   "metadata": {},
   "outputs": [],
   "source": [
    "import hue_sensors as hs"
   ]
  },
  {
   "cell_type": "code",
   "execution_count": 5,
   "metadata": {},
   "outputs": [
    {
     "data": {
      "text/plain": [
       "1.2"
      ]
     },
     "execution_count": 5,
     "metadata": {},
     "output_type": "execute_result"
    }
   ],
   "source": [
    "hs.__version__"
   ]
  },
  {
   "cell_type": "code",
   "execution_count": 6,
   "metadata": {},
   "outputs": [],
   "source": [
    "filename = \"hue_error_issue.json\""
   ]
  },
  {
   "cell_type": "code",
   "execution_count": 7,
   "metadata": {},
   "outputs": [],
   "source": [
    "response = hs.load_json_file(filename)"
   ]
  },
  {
   "cell_type": "code",
   "execution_count": 8,
   "metadata": {},
   "outputs": [],
   "source": [
    "data = hs.parse_hue_api_response(response)"
   ]
  },
  {
   "cell_type": "code",
   "execution_count": 9,
   "metadata": {},
   "outputs": [
    {
     "data": {
      "text/plain": [
       "{'RWL_10-02': {'battery': 100,\n",
       "  'last_updated': ['2018-01-21', '08:10:23'],\n",
       "  'model': 'RWL',\n",
       "  'name': 'Living room switch',\n",
       "  'state': '1_click'},\n",
       " 'RWL_eb-02': {'battery': 100,\n",
       "  'last_updated': ['2018-01-21', '07:52:07'],\n",
       "  'model': 'RWL',\n",
       "  'name': 'Kitchen switch',\n",
       "  'state': '1_click'},\n",
       " 'SML_74-02': {'battery': None,\n",
       "  'last_updated': ['none'],\n",
       "  'light_level': 'No light level data',\n",
       "  'model': 'SML',\n",
       "  'name': 'Hue motion sensor motion 1',\n",
       "  'state': 'off',\n",
       "  'temperature': 'No temperature data'},\n",
       " 'SML_97-02': {'battery': 100,\n",
       "  'dark': True,\n",
       "  'daylight': False,\n",
       "  'last_updated': ['2018-01-20', '22:26:12'],\n",
       "  'light_level': 0,\n",
       "  'lux': 1.0,\n",
       "  'model': 'SML',\n",
       "  'name': 'Dining Room motion sensor',\n",
       "  'state': 'off',\n",
       "  'temperature': 19.27},\n",
       " 'SML_ad-02': {'battery': 100,\n",
       "  'dark': True,\n",
       "  'daylight': False,\n",
       "  'last_updated': ['2018-01-21', '08:31:31'],\n",
       "  'light_level': 8874,\n",
       "  'lux': 7.71,\n",
       "  'model': 'SML',\n",
       "  'name': 'motion Corridor',\n",
       "  'state': 'off',\n",
       "  'temperature': 19.05},\n",
       " 'SML_d0-02': {'battery': 100,\n",
       "  'dark': False,\n",
       "  'daylight': False,\n",
       "  'last_updated': ['2018-01-21', '08:44:02'],\n",
       "  'light_level': 16455,\n",
       "  'lux': 44.2,\n",
       "  'model': 'SML',\n",
       "  'name': 'Kitchen motion Sensor',\n",
       "  'state': 'off',\n",
       "  'temperature': 17.25}}"
      ]
     },
     "execution_count": 9,
     "metadata": {},
     "output_type": "execute_result"
    }
   ],
   "source": [
    "data"
   ]
  },
  {
   "cell_type": "code",
   "execution_count": 10,
   "metadata": {},
   "outputs": [
    {
     "name": "stdout",
     "output_type": "stream",
     "text": [
      "6\n"
     ]
    },
    {
     "data": {
      "text/plain": [
       "['SML_d0-02', 'RWL_eb-02', 'RWL_10-02', 'SML_ad-02', 'SML_97-02', 'SML_74-02']"
      ]
     },
     "execution_count": 10,
     "metadata": {},
     "output_type": "execute_result"
    }
   ],
   "source": [
    "keys = list(data.keys())\n",
    "print(len(keys))\n",
    "keys"
   ]
  },
  {
   "cell_type": "code",
   "execution_count": null,
   "metadata": {},
   "outputs": [],
   "source": []
  }
 ],
 "metadata": {
  "kernelspec": {
   "display_name": "Python 3",
   "language": "python",
   "name": "python3"
  },
  "language_info": {
   "codemirror_mode": {
    "name": "ipython",
    "version": 3
   },
   "file_extension": ".py",
   "mimetype": "text/x-python",
   "name": "python",
   "nbconvert_exporter": "python",
   "pygments_lexer": "ipython3",
   "version": "3.6.3"
  }
 },
 "nbformat": 4,
 "nbformat_minor": 2
}
