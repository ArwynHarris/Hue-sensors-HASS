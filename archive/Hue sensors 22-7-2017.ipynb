{
 "cells": [
  {
   "cell_type": "markdown",
   "metadata": {},
   "source": [
    "The correct way to do this is using the phue library"
   ]
  },
  {
   "cell_type": "code",
   "execution_count": 2,
   "metadata": {
    "collapsed": true
   },
   "outputs": [],
   "source": [
    "import requests\n",
    "import json\n",
    "import pprint\n",
    "\n",
    "def print_json(json_data):\n",
    "    pprint.PrettyPrinter().pprint(json_data)\n",
    "    \n",
    "def load_url(filename):\n",
    "    try:\n",
    "        with open(filename, 'r') as fp:\n",
    "            url = json.load(fp)\n",
    "    except Exception as e:\n",
    "        print('Failed to load url')\n",
    "        url = None\n",
    "    return url['url']"
   ]
  },
  {
   "cell_type": "code",
   "execution_count": 3,
   "metadata": {
    "collapsed": true
   },
   "outputs": [],
   "source": [
    "filename = '/Users/robincole/Desktop/Hue_url.json'\n",
    "url = load_url(filename)"
   ]
  },
  {
   "cell_type": "code",
   "execution_count": 4,
   "metadata": {
    "collapsed": true
   },
   "outputs": [],
   "source": [
    "sensors = requests.get(url).json() "
   ]
  },
  {
   "cell_type": "code",
   "execution_count": 5,
   "metadata": {
    "collapsed": false
   },
   "outputs": [
    {
     "data": {
      "text/plain": [
       "19"
      ]
     },
     "execution_count": 5,
     "metadata": {},
     "output_type": "execute_result"
    }
   ],
   "source": [
    "len(sensors)"
   ]
  },
  {
   "cell_type": "code",
   "execution_count": 6,
   "metadata": {
    "collapsed": false
   },
   "outputs": [
    {
     "name": "stdout",
     "output_type": "stream",
     "text": [
      "1 : Daylight\n",
      "2 : Remote bedroom\n",
      "3 : Dimmer Switch 2 SceneCycle\n",
      "4 : Hue temperature sensor 1\n",
      "5 : Hall Sensor\n",
      "6 : Hue ambient light sensor 1\n",
      "7 : MotionSensor 5.Companion\n",
      "8 : Hue temperature sensor 2\n",
      "9 : Bedroom sensor\n",
      "10 : Hue ambient light sensor 2\n",
      "11 : MotionSensor 9.Companion\n",
      "12 : Robins iPhone\n",
      "13 : HomeAway\n",
      "14 : Hue temperature sensor 3\n",
      "15 : Living room sensor\n",
      "16 : Hue ambient light sensor 3\n",
      "17 : Remote living room\n",
      "18 : MotionSensor 15.Companion\n"
     ]
    }
   ],
   "source": [
    "for i in range(1,len(sensors)):\n",
    "    print(str(i) + ' : ' + sensors[str(i)]['name'])"
   ]
  },
  {
   "cell_type": "code",
   "execution_count": 7,
   "metadata": {
    "collapsed": false
   },
   "outputs": [
    {
     "name": "stdout",
     "output_type": "stream",
     "text": [
      "1 : Daylight\n",
      "2 : ZLLSwitch\n",
      "3 : CLIPGenericStatus\n",
      "4 : ZLLTemperature\n",
      "5 : ZLLPresence\n",
      "6 : ZLLLightLevel\n",
      "7 : CLIPGenericStatus\n",
      "8 : ZLLTemperature\n",
      "9 : ZLLPresence\n",
      "10 : ZLLLightLevel\n",
      "11 : CLIPGenericStatus\n",
      "12 : Geofence\n",
      "13 : CLIPPresence\n",
      "14 : ZLLTemperature\n",
      "15 : ZLLPresence\n",
      "16 : ZLLLightLevel\n",
      "17 : ZLLSwitch\n",
      "18 : CLIPGenericStatus\n"
     ]
    }
   ],
   "source": [
    "for i in range(1,len(sensors)):\n",
    "    print(str(i) + ' : ' + sensors[str(i)]['type'])"
   ]
  },
  {
   "cell_type": "code",
   "execution_count": 8,
   "metadata": {
    "collapsed": false
   },
   "outputs": [
    {
     "name": "stdout",
     "output_type": "stream",
     "text": [
      "1 : PHDL00\n",
      "2 : RWL021\n",
      "3 : PHWA01\n",
      "4 : SML001\n",
      "5 : SML001\n",
      "6 : SML001\n",
      "7 : PHA_STATE\n",
      "8 : SML001\n",
      "9 : SML001\n",
      "10 : SML001\n",
      "11 : PHA_STATE\n",
      "12 : HA_GEOFENCE\n",
      "13 : HOMEAWAY\n",
      "14 : SML001\n",
      "15 : SML001\n",
      "16 : SML001\n",
      "17 : RWL021\n",
      "18 : PHA_STATE\n"
     ]
    }
   ],
   "source": [
    "for i in range(1,len(sensors)):\n",
    "    print(str(i) + ' : ' + sensors[str(i)]['modelid'])"
   ]
  },
  {
   "cell_type": "code",
   "execution_count": 11,
   "metadata": {
    "collapsed": false
   },
   "outputs": [
    {
     "name": "stdout",
     "output_type": "stream",
     "text": [
      "2 : 00:17:88:01:10:3e:3a:dc-02-fc00\n",
      "3 : WA0001\n",
      "4 : 00:17:88:01:02:00:af:28-02-0402\n",
      "5 : 00:17:88:01:02:00:af:28-02-0406\n",
      "6 : 00:17:88:01:02:00:af:28-02-0400\n",
      "7 : MotionSensor 5.Companion\n",
      "8 : 00:17:88:01:02:00:b5:ce-02-0402\n",
      "9 : 00:17:88:01:02:00:b5:ce-02-0406\n",
      "10 : 00:17:88:01:02:00:b5:ce-02-0400\n",
      "11 : MotionSensor 9.Companion\n",
      "12 : L_02_IYwHM\n",
      "13 : L_01_9rQ8A\n",
      "14 : 00:17:88:01:02:01:aa:9c-02-0402\n",
      "15 : 00:17:88:01:02:01:aa:9c-02-0406\n",
      "16 : 00:17:88:01:02:01:aa:9c-02-0400\n",
      "17 : 00:17:88:01:02:e2:47:1e-02-fc00\n",
      "18 : MotionSensor 15.Companion\n"
     ]
    }
   ],
   "source": [
    "for i in range(1,len(sensors)):\n",
    "    if 'uniqueid' in sensors[str(i)]:\n",
    "        print(str(i) + ' : ' + sensors[str(i)]['uniqueid'])"
   ]
  },
  {
   "cell_type": "code",
   "execution_count": 21,
   "metadata": {
    "collapsed": false
   },
   "outputs": [
    {
     "data": {
      "text/plain": [
       "{'config': {'configured': True,\n",
       "  'on': True,\n",
       "  'sunriseoffset': 30,\n",
       "  'sunsetoffset': -30},\n",
       " 'manufacturername': 'Philips',\n",
       " 'modelid': 'PHDL00',\n",
       " 'name': 'Daylight',\n",
       " 'state': {'daylight': True, 'lastupdated': '2017-07-22T04:41:00'},\n",
       " 'swversion': '1.0',\n",
       " 'type': 'Daylight'}"
      ]
     },
     "execution_count": 21,
     "metadata": {},
     "output_type": "execute_result"
    }
   ],
   "source": [
    "sensors['1']"
   ]
  },
  {
   "cell_type": "code",
   "execution_count": 22,
   "metadata": {
    "collapsed": false
   },
   "outputs": [
    {
     "data": {
      "text/plain": [
       "{'config': {'battery': 100, 'on': True, 'pending': [], 'reachable': True},\n",
       " 'manufacturername': 'Philips',\n",
       " 'modelid': 'RWL021',\n",
       " 'name': 'Remote bedroom',\n",
       " 'state': {'buttonevent': 4002, 'lastupdated': '2017-07-22T14:22:37'},\n",
       " 'swversion': '5.45.1.16265',\n",
       " 'type': 'ZLLSwitch',\n",
       " 'uniqueid': '00:17:88:01:10:3e:3a:dc-02-fc00'}"
      ]
     },
     "execution_count": 22,
     "metadata": {},
     "output_type": "execute_result"
    }
   ],
   "source": [
    "sensors['2']"
   ]
  },
  {
   "cell_type": "code",
   "execution_count": 23,
   "metadata": {
    "collapsed": false
   },
   "outputs": [
    {
     "data": {
      "text/plain": [
       "{'config': {'on': True, 'reachable': True},\n",
       " 'manufacturername': 'Philips',\n",
       " 'modelid': 'PHWA01',\n",
       " 'name': 'Dimmer Switch 2 SceneCycle',\n",
       " 'recycle': True,\n",
       " 'state': {'lastupdated': '2017-07-22T14:22:47', 'status': 0},\n",
       " 'swversion': '1.0',\n",
       " 'type': 'CLIPGenericStatus',\n",
       " 'uniqueid': 'WA0001'}"
      ]
     },
     "execution_count": 23,
     "metadata": {},
     "output_type": "execute_result"
    }
   ],
   "source": [
    "sensors['3']"
   ]
  },
  {
   "cell_type": "code",
   "execution_count": 24,
   "metadata": {
    "collapsed": false
   },
   "outputs": [
    {
     "data": {
      "text/plain": [
       "{'config': {'alert': 'none',\n",
       "  'battery': 100,\n",
       "  'ledindication': False,\n",
       "  'on': True,\n",
       "  'pending': [],\n",
       "  'reachable': True,\n",
       "  'usertest': False},\n",
       " 'manufacturername': 'Philips',\n",
       " 'modelid': 'SML001',\n",
       " 'name': 'Hue temperature sensor 1',\n",
       " 'state': {'lastupdated': '2017-07-22T15:02:49', 'temperature': 2069},\n",
       " 'swversion': '6.1.0.18912',\n",
       " 'type': 'ZLLTemperature',\n",
       " 'uniqueid': '00:17:88:01:02:00:af:28-02-0402'}"
      ]
     },
     "execution_count": 24,
     "metadata": {},
     "output_type": "execute_result"
    }
   ],
   "source": [
    "sensors['4']"
   ]
  },
  {
   "cell_type": "code",
   "execution_count": 25,
   "metadata": {
    "collapsed": false
   },
   "outputs": [
    {
     "data": {
      "text/plain": [
       "{'config': {'alert': 'none',\n",
       "  'battery': 100,\n",
       "  'ledindication': False,\n",
       "  'on': True,\n",
       "  'pending': [],\n",
       "  'reachable': True,\n",
       "  'sensitivity': 2,\n",
       "  'sensitivitymax': 2,\n",
       "  'usertest': False},\n",
       " 'manufacturername': 'Philips',\n",
       " 'modelid': 'SML001',\n",
       " 'name': 'Hall Sensor',\n",
       " 'state': {'lastupdated': '2017-07-22T14:58:05', 'presence': False},\n",
       " 'swversion': '6.1.0.18912',\n",
       " 'type': 'ZLLPresence',\n",
       " 'uniqueid': '00:17:88:01:02:00:af:28-02-0406'}"
      ]
     },
     "execution_count": 25,
     "metadata": {},
     "output_type": "execute_result"
    }
   ],
   "source": [
    "sensors['5']"
   ]
  },
  {
   "cell_type": "code",
   "execution_count": 26,
   "metadata": {
    "collapsed": false
   },
   "outputs": [
    {
     "data": {
      "text/plain": [
       "{'config': {'alert': 'none',\n",
       "  'battery': 100,\n",
       "  'ledindication': False,\n",
       "  'on': True,\n",
       "  'pending': [],\n",
       "  'reachable': True,\n",
       "  'tholddark': 16000,\n",
       "  'tholdoffset': 7000,\n",
       "  'usertest': False},\n",
       " 'manufacturername': 'Philips',\n",
       " 'modelid': 'SML001',\n",
       " 'name': 'Hue ambient light sensor 1',\n",
       " 'state': {'dark': True,\n",
       "  'daylight': False,\n",
       "  'lastupdated': '2017-07-22T15:02:56',\n",
       "  'lightlevel': 11105},\n",
       " 'swversion': '6.1.0.18912',\n",
       " 'type': 'ZLLLightLevel',\n",
       " 'uniqueid': '00:17:88:01:02:00:af:28-02-0400'}"
      ]
     },
     "execution_count": 26,
     "metadata": {},
     "output_type": "execute_result"
    }
   ],
   "source": [
    "sensors['6']"
   ]
  },
  {
   "cell_type": "code",
   "execution_count": 27,
   "metadata": {
    "collapsed": false
   },
   "outputs": [
    {
     "data": {
      "text/plain": [
       "{'config': {'on': True, 'reachable': True},\n",
       " 'manufacturername': 'Philips',\n",
       " 'modelid': 'PHA_STATE',\n",
       " 'name': 'MotionSensor 5.Companion',\n",
       " 'recycle': True,\n",
       " 'state': {'lastupdated': '2017-07-22T14:58:50', 'status': 0},\n",
       " 'swversion': '1.0',\n",
       " 'type': 'CLIPGenericStatus',\n",
       " 'uniqueid': 'MotionSensor 5.Companion'}"
      ]
     },
     "execution_count": 27,
     "metadata": {},
     "output_type": "execute_result"
    }
   ],
   "source": [
    "sensors['7']"
   ]
  },
  {
   "cell_type": "code",
   "execution_count": 28,
   "metadata": {
    "collapsed": false
   },
   "outputs": [
    {
     "data": {
      "text/plain": [
       "{'config': {'alert': 'none',\n",
       "  'battery': 100,\n",
       "  'ledindication': False,\n",
       "  'on': True,\n",
       "  'pending': [],\n",
       "  'reachable': True,\n",
       "  'usertest': False},\n",
       " 'manufacturername': 'Philips',\n",
       " 'modelid': 'SML001',\n",
       " 'name': 'Hue temperature sensor 2',\n",
       " 'state': {'lastupdated': '2017-07-22T15:02:03', 'temperature': 2116},\n",
       " 'swversion': '6.1.0.18912',\n",
       " 'type': 'ZLLTemperature',\n",
       " 'uniqueid': '00:17:88:01:02:00:b5:ce-02-0402'}"
      ]
     },
     "execution_count": 28,
     "metadata": {},
     "output_type": "execute_result"
    }
   ],
   "source": [
    "sensors['8']"
   ]
  },
  {
   "cell_type": "code",
   "execution_count": 32,
   "metadata": {
    "collapsed": false
   },
   "outputs": [
    {
     "data": {
      "text/plain": [
       "'Bedroom sensor'"
      ]
     },
     "execution_count": 32,
     "metadata": {},
     "output_type": "execute_result"
    }
   ],
   "source": [
    "sensors['9']['name']"
   ]
  },
  {
   "cell_type": "code",
   "execution_count": null,
   "metadata": {
    "collapsed": true
   },
   "outputs": [],
   "source": []
  }
 ],
 "metadata": {
  "anaconda-cloud": {},
  "kernelspec": {
   "display_name": "Python [conda root]",
   "language": "python",
   "name": "conda-root-py"
  },
  "language_info": {
   "codemirror_mode": {
    "name": "ipython",
    "version": 3
   },
   "file_extension": ".py",
   "mimetype": "text/x-python",
   "name": "python",
   "nbconvert_exporter": "python",
   "pygments_lexer": "ipython3",
   "version": "3.5.3"
  }
 },
 "nbformat": 4,
 "nbformat_minor": 1
}
