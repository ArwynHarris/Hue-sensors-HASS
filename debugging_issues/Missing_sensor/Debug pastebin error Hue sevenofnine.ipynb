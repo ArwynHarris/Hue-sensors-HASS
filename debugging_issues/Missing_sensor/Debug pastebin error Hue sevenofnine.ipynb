{
 "cells": [
  {
   "cell_type": "markdown",
   "metadata": {},
   "source": [
    "Issue https://community.home-assistant.io/t/hue-motion-sensors-remotes-custom-component/27176/209\n",
    "\n",
    "Hi, I have now checked the hue api and the motion sensor not showing up in ha is showing under api/sensors.\n",
    "Here is the complete responce from the api showing all 8 motion sensors. https://pastebin.com/nRTJDRUM2\n",
    "The strange thing is that it is sensor number 6 that is not showing up."
   ]
  },
  {
   "cell_type": "code",
   "execution_count": 1,
   "metadata": {},
   "outputs": [],
   "source": [
    "import hue_sensors as hs"
   ]
  },
  {
   "cell_type": "code",
   "execution_count": 2,
   "metadata": {},
   "outputs": [
    {
     "data": {
      "text/plain": [
       "1.2"
      ]
     },
     "execution_count": 2,
     "metadata": {},
     "output_type": "execute_result"
    }
   ],
   "source": [
    "hs.__version__"
   ]
  },
  {
   "cell_type": "code",
   "execution_count": 8,
   "metadata": {},
   "outputs": [],
   "source": [
    "filename = \"hue_error_pastebin.json\" # From pastebin"
   ]
  },
  {
   "cell_type": "code",
   "execution_count": 9,
   "metadata": {},
   "outputs": [],
   "source": [
    "response = hs.load_json_file(filename)"
   ]
  },
  {
   "cell_type": "code",
   "execution_count": 10,
   "metadata": {},
   "outputs": [],
   "source": [
    "data = hs.parse_hue_api_response(response)"
   ]
  },
  {
   "cell_type": "code",
   "execution_count": 11,
   "metadata": {},
   "outputs": [
    {
     "data": {
      "text/plain": [
       "{'RWL_06-02': {'battery': 100,\n",
       "  'last_updated': ['2018-01-28', '11:28:35'],\n",
       "  'model': 'RWL',\n",
       "  'name': 'badrummet dimmer switch',\n",
       "  'state': '4_click'},\n",
       " 'RWL_6c-02': {'battery': 100,\n",
       "  'last_updated': ['2018-01-25', '18:59:01'],\n",
       "  'model': 'RWL',\n",
       "  'name': 'Vardagsrummet dimmer switch 2',\n",
       "  'state': '1_click'},\n",
       " 'RWL_86-02': {'battery': 100,\n",
       "  'last_updated': ['2018-01-28', '13:25:25'],\n",
       "  'model': 'RWL',\n",
       "  'name': 'köket dimmer switch',\n",
       "  'state': '4_click'},\n",
       " 'RWL_9e-02': {'battery': 100,\n",
       "  'last_updated': ['2018-01-25', '18:58:53'],\n",
       "  'model': 'RWL',\n",
       "  'name': 'Vardagsrummet dimmer switch 1',\n",
       "  'state': '4_click'},\n",
       " 'RWL_b8-02': {'battery': 100,\n",
       "  'last_updated': ['2018-01-28', '13:25:26'],\n",
       "  'model': 'RWL',\n",
       "  'name': 'Baksidan dimmer switch',\n",
       "  'state': '4_click'},\n",
       " 'RWL_b9-02': {'battery': 100,\n",
       "  'last_updated': ['2018-01-28', '13:25:25'],\n",
       "  'model': 'RWL',\n",
       "  'name': 'Teverummet dimmer switch',\n",
       "  'state': '4_click'},\n",
       " 'RWL_c5-02': {'battery': 100,\n",
       "  'last_updated': ['2018-01-25', '19:00:03'],\n",
       "  'model': 'RWL',\n",
       "  'name': 'Framsidan dimmer switch',\n",
       "  'state': '1_click'},\n",
       " 'SML_1e-02': {'battery': 100,\n",
       "  'dark': True,\n",
       "  'daylight': False,\n",
       "  'last_updated': ['2018-01-28', '19:47:29'],\n",
       "  'light_level': 9399,\n",
       "  'lux': 8.71,\n",
       "  'model': 'SML',\n",
       "  'name': 'teverummet motion sensor',\n",
       "  'state': 'off',\n",
       "  'temperature': 19.86},\n",
       " 'SML_2a-02': {'battery': 100,\n",
       "  'dark': True,\n",
       "  'daylight': False,\n",
       "  'last_updated': ['2018-01-28', '19:40:56'],\n",
       "  'light_level': 5047,\n",
       "  'lux': 3.2,\n",
       "  'model': 'SML',\n",
       "  'name': 'vardagsrummet motion sensor',\n",
       "  'state': 'off',\n",
       "  'temperature': 20.5},\n",
       " 'SML_2e-02': {'battery': 100,\n",
       "  'dark': False,\n",
       "  'daylight': False,\n",
       "  'last_updated': ['2018-01-28', '19:40:39'],\n",
       "  'light_level': 19598,\n",
       "  'lux': 91.14,\n",
       "  'model': 'SML',\n",
       "  'name': 'bathroom downstairs motion sensor',\n",
       "  'state': 'off',\n",
       "  'temperature': 24.11},\n",
       " 'SML_4a-02': {'battery': 100,\n",
       "  'dark': True,\n",
       "  'daylight': False,\n",
       "  'last_updated': ['2018-01-28', '19:40:42'],\n",
       "  'light_level': 11915,\n",
       "  'lux': 15.54,\n",
       "  'model': 'SML',\n",
       "  'name': 'Hallen motion sensor',\n",
       "  'state': 'off',\n",
       "  'temperature': 19.72},\n",
       " 'SML_73-02': {'battery': 100,\n",
       "  'dark': True,\n",
       "  'daylight': False,\n",
       "  'last_updated': ['2018-01-28', '19:41:06'],\n",
       "  'light_level': 3645,\n",
       "  'lux': 2.31,\n",
       "  'model': 'SML',\n",
       "  'name': 'köket motion sensor',\n",
       "  'state': 'off',\n",
       "  'temperature': 20.54},\n",
       " 'SML_9e-02': {'battery': 100,\n",
       "  'dark': True,\n",
       "  'daylight': False,\n",
       "  'last_updated': ['2018-01-28', '16:58:25'],\n",
       "  'light_level': 0,\n",
       "  'lux': 1.0,\n",
       "  'model': 'SML',\n",
       "  'name': 'uppfarten motion sensor',\n",
       "  'state': 'off',\n",
       "  'temperature': 20.3},\n",
       " 'SML_fa-02': {'battery': 100,\n",
       "  'dark': True,\n",
       "  'daylight': False,\n",
       "  'last_updated': ['2018-01-28', '19:47:42'],\n",
       "  'light_level': 9768,\n",
       "  'lux': 9.48,\n",
       "  'model': 'SML',\n",
       "  'name': 'Entrance motion sensor',\n",
       "  'state': 'off',\n",
       "  'temperature': 22.54}}"
      ]
     },
     "execution_count": 11,
     "metadata": {},
     "output_type": "execute_result"
    }
   ],
   "source": [
    "data"
   ]
  },
  {
   "cell_type": "code",
   "execution_count": 12,
   "metadata": {},
   "outputs": [
    {
     "name": "stdout",
     "output_type": "stream",
     "text": [
      "14\n"
     ]
    },
    {
     "data": {
      "text/plain": [
       "['RWL_b8-02',\n",
       " 'RWL_c5-02',\n",
       " 'RWL_6c-02',\n",
       " 'RWL_9e-02',\n",
       " 'RWL_b9-02',\n",
       " 'SML_1e-02',\n",
       " 'SML_73-02',\n",
       " 'SML_fa-02',\n",
       " 'SML_4a-02',\n",
       " 'SML_2e-02',\n",
       " 'SML_9e-02',\n",
       " 'SML_2a-02',\n",
       " 'RWL_86-02',\n",
       " 'RWL_06-02']"
      ]
     },
     "execution_count": 12,
     "metadata": {},
     "output_type": "execute_result"
    }
   ],
   "source": [
    "keys = list(data.keys())\n",
    "print(len(keys))\n",
    "keys"
   ]
  },
  {
   "cell_type": "markdown",
   "metadata": {},
   "source": [
    "7 remotes, 7 motion sensors."
   ]
  },
  {
   "cell_type": "code",
   "execution_count": null,
   "metadata": {},
   "outputs": [],
   "source": []
  }
 ],
 "metadata": {
  "kernelspec": {
   "display_name": "Python 3",
   "language": "python",
   "name": "python3"
  },
  "language_info": {
   "codemirror_mode": {
    "name": "ipython",
    "version": 3
   },
   "file_extension": ".py",
   "mimetype": "text/x-python",
   "name": "python",
   "nbconvert_exporter": "python",
   "pygments_lexer": "ipython3",
   "version": "3.6.3"
  }
 },
 "nbformat": 4,
 "nbformat_minor": 2
}
